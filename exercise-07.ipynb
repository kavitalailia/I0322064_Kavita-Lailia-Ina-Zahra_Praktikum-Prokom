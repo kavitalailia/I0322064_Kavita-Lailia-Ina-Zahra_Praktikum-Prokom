{
 "cells": [
  {
   "cell_type": "code",
   "execution_count": 4,
   "metadata": {},
   "outputs": [
    {
     "data": {
      "text/plain": [
       "[[2, 4, 4, 0, 2, 6],\n",
       " [8, 7, 5, 6, 7, 4],\n",
       " [3, 3, 3, 2, 4, 5],\n",
       " [6, 7, 8, 7, 8, 4]]"
      ]
     },
     "execution_count": 4,
     "metadata": {},
     "output_type": "execute_result"
    }
   ],
   "source": [
    "#Buatlah sebuah fungsi untuk membuat matrix berdasarkan input dari user\n",
    "\n",
    "def create_matrix(baris,kolom):\n",
    "    matrix = []\n",
    "    \n",
    "#Tulis kode kamu disini\n",
    "    for a in range(baris):\n",
    "\n",
    "# menambahkan baris kosong ke matriks\n",
    "        matrix.append([]) \n",
    "        for b in range(kolom):\n",
    "\n",
    "# user memasukkan elemen matriks\n",
    "            elemen = int(input(f\"Masukkan elemen matrix [{a}][{b}]: \"))\n",
    "            matrix[a].append(elemen)\n",
    "\n",
    "    return matrix\n",
    "\n",
    "baris = int(input(\"\\tMasukkan Jumlah Baris:\"))\n",
    "kolom = int(input(\"\\tMasukkan Jumlah Kolom:\"))\n",
    "\n",
    "create_matrix(baris,kolom)"
   ]
  },
  {
   "cell_type": "code",
   "execution_count": 12,
   "metadata": {},
   "outputs": [
    {
     "data": {
      "text/plain": [
       "array([[-4, -4],\n",
       "       [-4,  1]])"
      ]
     },
     "execution_count": 12,
     "metadata": {},
     "output_type": "execute_result"
    }
   ],
   "source": [
    "#Buatlah fungsi untuk melakukan pengurangan antar dua matrix berdasarkan input user\n",
    "import numpy as np\n",
    "def pengurangan_matrix(matrixA, matrixB):\n",
    "    pengurangan = [[0,0],\n",
    "                  [0,0]]\n",
    "\n",
    "#Tulis kode kamu disini\n",
    "    pengurangan = matrixA - matrixB\n",
    "    return pengurangan\n",
    "    print(pengurangan)\n",
    "\n",
    "matrixA = np.array([[3,4],[5,6]])\n",
    "matrixB = np.array([[7,8],[9,5]])\n",
    "\n",
    "pengurangan_matrix(matrixA,matrixB)"
   ]
  },
  {
   "cell_type": "code",
   "execution_count": 11,
   "metadata": {},
   "outputs": [
    {
     "data": {
      "text/plain": [
       "array([[ 2.,  4.],\n",
       "       [ 8., 12.]])"
      ]
     },
     "execution_count": 11,
     "metadata": {},
     "output_type": "execute_result"
    }
   ],
   "source": [
    "#Buatlah Fungsi untuk melakukan pembagian matrix dengan skalar berdasarkan input user\n",
    "import numpy as np\n",
    "def pembagian_matrix(matrix1, skalar):\n",
    "    hasil_pembagian = [[0,0],\n",
    "                      [0,0]]\n",
    "\n",
    "#Tulis kode kamu disini\n",
    "    hasil_pembagian = matrix1/skalar\n",
    "     \n",
    "    return hasil_pembagian\n",
    "\n",
    "matrix1 = np.array([[4,8],[16,24]])\n",
    "skalar = int(input(\"\\tMatrix dibagi berapa?\"))\n",
    "\n",
    "pembagian_matrix(matrix1, skalar)"
   ]
  }
 ],
 "metadata": {
  "kernelspec": {
   "display_name": "Python 3",
   "language": "python",
   "name": "python3"
  },
  "language_info": {
   "codemirror_mode": {
    "name": "ipython",
    "version": 3
   },
   "file_extension": ".py",
   "mimetype": "text/x-python",
   "name": "python",
   "nbconvert_exporter": "python",
   "pygments_lexer": "ipython3",
   "version": "3.10.8"
  },
  "orig_nbformat": 4
 },
 "nbformat": 4,
 "nbformat_minor": 2
}
