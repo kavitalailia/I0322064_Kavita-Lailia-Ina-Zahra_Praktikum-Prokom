{
 "cells": [
  {
   "cell_type": "code",
   "execution_count": 1,
   "metadata": {},
   "outputs": [
    {
     "name": "stdout",
     "output_type": "stream",
     "text": [
      "Kavita Lailia Ina Zahra\n",
      "I0322064\n",
      "B\n"
     ]
    }
   ],
   "source": [
    "print(input(\"Nama: \"))\n",
    "print(input(\"NIM: \"))\n",
    "print(input(\"Kelas: \"))"
   ]
  },
  {
   "attachments": {},
   "cell_type": "markdown",
   "metadata": {},
   "source": [
    "## 1."
   ]
  },
  {
   "attachments": {},
   "cell_type": "markdown",
   "metadata": {},
   "source": [
    "Buatlah program yang meminta input string dari user, kemudian program akan menentukan string tersebut adalah palyndrome atau bukan.<br>\n",
    "* Palyndrome adalah kata atau kalimat yang jika dibalik hasilnya sama\n",
    "* kasur rusak adalah palyndrome\n",
    "\n",
    "> *note: Kerjakan soal ini dengan percabangan*"
   ]
  },
  {
   "cell_type": "code",
   "execution_count": 3,
   "metadata": {},
   "outputs": [
    {
     "name": "stdout",
     "output_type": "stream",
     "text": [
      "kalimat ini termasuk palyndrom atau bukan?\n",
      "\n",
      "kalimat katak merupakan palyndrome\n"
     ]
    }
   ],
   "source": [
    "# Kerjakan soal no 1 di sini\n",
    "print(\"kalimat ini termasuk palyndrom atau bukan?\")\n",
    "print()\n",
    "\n",
    "x = str(input(\"masukkan kalimat: \"))\n",
    "hasil = x[::-1]\n",
    "\n",
    "if x == hasil:\n",
    "    print(\"kalimat\", x, \"merupakan palyndrome\")\n",
    "else:\n",
    "    print(\"kalimat\", x, \"bukan palyndrome\")"
   ]
  },
  {
   "attachments": {},
   "cell_type": "markdown",
   "metadata": {},
   "source": [
    "## 2."
   ]
  },
  {
   "attachments": {},
   "cell_type": "markdown",
   "metadata": {},
   "source": [
    "Buatlah program yang meminta input berupa tahun dan bulan kemudian tampilkan jumlah hari pada bulan tersebut (perbedaan pada tahun kabisat).<br>\n",
    "\n",
    "> *note: Kerjakan soal ini dengan percabangan*"
   ]
  },
  {
   "cell_type": "code",
   "execution_count": 2,
   "metadata": {},
   "outputs": [
    {
     "name": "stdout",
     "output_type": "stream",
     "text": [
      "jumlah hari pada bulan may 2022 adalah 31 hari\n"
     ]
    }
   ],
   "source": [
    "# Kerjakan soal no 2 di sini\n",
    "x = int(input(\"masukkan tahun: \"))\n",
    "y1 = str(input(\"masukkan bulan: \"))\n",
    "y2 = y1.lower()\n",
    "cek = {\n",
    "    'tahun kabisat':{\n",
    "    'january':31, 'february': 29, 'march': 31, 'april': 30, 'may': 31, 'june': 30, 'july': 31, 'august': 31, 'september': 30, 'october': 31, 'november': 30, 'december': 31\n",
    "    },\n",
    "    'bukan tahun kabisat':{\n",
    "    'january':31, 'february': 28, 'march': 31, 'april': 30, 'may': 31, 'june': 30, 'july': 31, 'august': 31, 'september': 30, 'october': 31, 'november': 30, 'december': 31\n",
    "    }\n",
    "}\n",
    "\n",
    "if x % 4==0 and (x % 400 != 0 or x % 100 != 0):\n",
    "    print(\"jumlah hari pada bulan\", y1, x, \"adalah\", cek['tahun kabisat'][y2], \"hari\")\n",
    "else:\n",
    "    print(\"jumlah hari pada bulan\", y1, x, \"adalah\", cek['bukan tahun kabisat'][y2], \"hari\")"
   ]
  }
 ],
 "metadata": {
  "kernelspec": {
   "display_name": "Python 3",
   "language": "python",
   "name": "python3"
  },
  "language_info": {
   "codemirror_mode": {
    "name": "ipython",
    "version": 3
   },
   "file_extension": ".py",
   "mimetype": "text/x-python",
   "name": "python",
   "nbconvert_exporter": "python",
   "pygments_lexer": "ipython3",
   "version": "3.10.8"
  },
  "orig_nbformat": 4
 },
 "nbformat": 4,
 "nbformat_minor": 2
}
