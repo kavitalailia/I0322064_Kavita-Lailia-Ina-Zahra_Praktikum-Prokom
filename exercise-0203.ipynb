{
 "cells": [
  {
   "cell_type": "code",
   "execution_count": 2,
   "metadata": {},
   "outputs": [
    {
     "name": "stdout",
     "output_type": "stream",
     "text": [
      "kavita\n",
      "i0322064\n",
      "B\n"
     ]
    }
   ],
   "source": [
    "print(input(\"Nama: \"))\n",
    "print(input(\"NIM: \"))\n",
    "print(input(\"Kelas: \"))"
   ]
  },
  {
   "attachments": {},
   "cell_type": "markdown",
   "metadata": {},
   "source": [
    "## 1."
   ]
  },
  {
   "attachments": {},
   "cell_type": "markdown",
   "metadata": {},
   "source": [
    "* **A** Hitunglah luas Prisma Segitiga dengan ketentuan sebagai berikut:\n",
    "    * Alas dan tutup prisma merupakan segitiga\n",
    "    * Terdapat 3 persegi panjang yang menyinggung alas dan tutup prisma\n",
    "    * Sisi persegi panjang yang menyinggung segitiga adalah sisi lebar\n",
    "```python\n",
    "    dictionary_figure = {\"Persegi\":{\"Sisi\":22},\n",
    "                        \"Persegi Panjang\":{\"Panjang\":10,\"Lebar\":5},\n",
    "                        \"Segitiga Sama Sisi\":{\"Sisi\":6,\"Tinggi\":3**(1/2) * 3},\n",
    "                        \"Lingkaran\":{\"Diameter\":7}}\n",
    "```\n",
    "* **B** Hitunglah luas Tabung dengan ketentuan sebagai berikut:\n",
    "    * Alas dan tutup tabung merupakan lingkaran\n",
    "    * Terdapat 1 persegi yang menyinggung alas dan tutup tabung\n",
    "    * Persegi yang ada mengelilingi lingkaran hingga sisi dari persegi saling bertemu\n",
    "\n",
    "> **note:** *Pada soal ini kalian hanya boleh menggunakan key-value pair dan index pada list. Tidak diperbolehkan menulis secara langsung dimensi dari figure*"
   ]
  },
  {
   "cell_type": "code",
   "execution_count": 1,
   "metadata": {},
   "outputs": [
    {
     "name": "stdout",
     "output_type": "stream",
     "text": [
      "Luas Permukaan Prisma Segitiga adalah (a*t/2)*2 + (p*l)*3 = 181.18\n",
      "Luas Permukaan Tabung adalah (phi*(d**2)/4) + (phi*d*s) = 522.5\n"
     ]
    }
   ],
   "source": [
    "dictionary_figure = {\"Persegi\":{\"Sisi\":22},\n",
    "                        \"Persegi Panjang\":{\"Panjang\":10,\"Lebar\":5},\n",
    "                        \"Segitiga Sama Sisi\":{\"Sisi\":6,\"Tinggi\":3**(1/2) * 3},\n",
    "                        \"Lingkaran\":{\"Diameter\":7}}\n",
    "\n",
    "a = (dictionary_figure[\"Segitiga Sama Sisi\"][\"Sisi\"])\n",
    "t = (dictionary_figure[\"Segitiga Sama Sisi\"][\"Tinggi\"])\n",
    "p = (dictionary_figure[\"Persegi Panjang\"][\"Panjang\"])\n",
    "l = (dictionary_figure[\"Persegi Panjang\"][\"Lebar\"])\n",
    "d = (dictionary_figure[\"Lingkaran\"][\"Diameter\"])\n",
    "s = (dictionary_figure[\"Persegi\"][\"Sisi\"])\n",
    "phi = 22/7\n",
    "\n",
    "h1 = (a*t/2)*2 + (p*l)*3\n",
    "h2 = (phi*(d**2)/4) + (phi*d*s)\n",
    "print(\"Luas Permukaan Prisma Segitiga adalah\",\"(a*t/2)*2 + (p*l)*3 =\", round(h1,2))\n",
    "print(\"Luas Permukaan Tabung adalah\",\"(phi*(d**2)/4) + (phi*d*s) =\", round(h2,2))"
   ]
  },
  {
   "attachments": {},
   "cell_type": "markdown",
   "metadata": {},
   "source": [
    "## 2."
   ]
  },
  {
   "attachments": {},
   "cell_type": "markdown",
   "metadata": {},
   "source": [
    "Diberikan List sebagai berikut\n",
    "```Python\n",
    "    data = [8, 8, 4, 6, 8, 9, 6, 5, 4, 7]\n",
    "```\n",
    "* Tambahkan 3 angka baru ke dalam list\n",
    "* Tampilkan output list dengan berurutan dari yang terkecil hingga yang terbesar\n",
    "* Tentukan mean, median, dan modus pada list baru"
   ]
  },
  {
   "cell_type": "code",
   "execution_count": 3,
   "metadata": {},
   "outputs": [
    {
     "name": "stdout",
     "output_type": "stream",
     "text": [
      "urutan list data yang dimiliki adalah [4, 4, 5, 6, 6, 7, 8, 8, 8, 8, 9, 9, 9]\n",
      "Hasil mean dari data tersebut adalah 7.0\n",
      "Hasil median dari data tersebut adalah 8\n",
      "Hasil modus dari data tersebut adalah 8\n"
     ]
    }
   ],
   "source": [
    "angka1 = int(input(\"Masukan angka pertama\"))\n",
    "angka2 = int(input(\"Masukkan angka kedua\"))\n",
    "angka3 = int(input(\"Masukkan angka ketiga\"))\n",
    "angka4 = [8, 8, 4, 6, 8, 9, 6, 5, 4, 7]\n",
    "\n",
    "angka5 = [angka1,angka2,angka3]\n",
    "angka4.extend(angka5)\n",
    "angka4.sort ()\n",
    "print(\"urutan list data yang dimiliki adalah\", angka4)\n",
    "\n",
    "mean = (sum(angka4))/13 \n",
    "median = angka4[6]\n",
    "modus = max(angka4, key=angka4.count)\n",
    "\n",
    "print(\"Hasil mean dari data tersebut adalah\", mean)\n",
    "print(\"Hasil median dari data tersebut adalah\", median)\n",
    "print(\"Hasil modus dari data tersebut adalah\", modus)"
   ]
  },
  {
   "attachments": {},
   "cell_type": "markdown",
   "metadata": {},
   "source": [
    "## 3. "
   ]
  },
  {
   "attachments": {},
   "cell_type": "markdown",
   "metadata": {},
   "source": [
    "Dalam pembuatan SIM ada beberapa syarat yang harus dipenuhi bagi para pembuat SIM yaitu:\n",
    "1. Pembuat SIM harus memiliki usia setidaknya 17 tahun\n",
    "2. Pembuat SIM lulus dalam tes kesehatan\n",
    "3. Pembuat SIM lulus dalam uji psikotes\n",
    "4. Pembuat SIM telah mengikuti ujian tertulis dengan nilai setidaknya 70\n",
    "5. Pembuat SIM lulus dalam simulasi berkendara\n",
    "6. Apabila pembuat SIM memiliki surat rekomendasi dari kursus berkendara maka pembuat SIM akan mendapatkan SIM (mengabaikan poin 1-5 apabila poin ke-6 terpenuhi)\n",
    "\n",
    "Buatlah input yang membuat setiap poin menjadi variabel. Output yang dihasilkan merupakan \"True\" apabila pembuat berhak mendapatkan SIM dan \"False\" apabila pembuat tidak berhak mendapatkan SIM.\n",
    "\n",
    "> **note:** *Tidak perlu menggunakan loops dalam membuat programnya*"
   ]
  },
  {
   "cell_type": "code",
   "execution_count": 2,
   "metadata": {},
   "outputs": [
    {
     "name": "stdout",
     "output_type": "stream",
     "text": [
      "apakah pengaju SIM berhak mendapatkan SIM? True\n"
     ]
    }
   ],
   "source": [
    "usia = int (input(\"berapa usia saat ini?\"))\n",
    "tes_kesehatan = input(\"apakah pengaju SIM lulus tes kesehatan? (ya/tidak)\")\n",
    "uji_psikotes = input(\"apakah pengaju SIM lulus uji psikotes? (ya/tidak)\")\n",
    "nilai = float (input(\"berapa nilai ujian tertulis?\"))\n",
    "simulasi = input (\"apakah pengaju SIM lulus dalam simulasi berkendara? (ya/tidak)\")\n",
    "surat_rekomendasi = input (\"apakah pengaju SIM memiliki surat rekomendasi dari kursus berkendara? (ya/tidak)\")\n",
    "\n",
    "keputusan = usia >=17 and tes_kesehatan == \"ya\" and uji_psikotes == \"ya\" and nilai >=70 and simulasi == \"ya\" or surat_rekomendasi == \"ya\"\n",
    "print (\"apakah pengaju SIM berhak mendapatkan SIM?\", keputusan)"
   ]
  }
 ],
 "metadata": {
  "kernelspec": {
   "display_name": "Python 3",
   "language": "python",
   "name": "python3"
  },
  "language_info": {
   "codemirror_mode": {
    "name": "ipython",
    "version": 3
   },
   "file_extension": ".py",
   "mimetype": "text/x-python",
   "name": "python",
   "nbconvert_exporter": "python",
   "pygments_lexer": "ipython3",
   "version": "3.10.8"
  },
  "orig_nbformat": 4,
  "vscode": {
   "interpreter": {
    "hash": "5addf786bcd861d1ce5006f23111f8cbb206731e5b61b0a5632ba9e0252558a8"
   }
  }
 },
 "nbformat": 4,
 "nbformat_minor": 2
}
